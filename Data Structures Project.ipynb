{
 "cells": [
  {
   "cell_type": "code",
   "execution_count": 13,
   "id": "52ff2752",
   "metadata": {},
   "outputs": [
    {
     "name": "stdout",
     "output_type": "stream",
     "text": [
      "Union of E and N is {0, 1, 2, 3, 4, 5, 6, 8}\n",
      "Intersection of E and N is {2, 4}\n",
      "Difference of E and N is {0, 8, 6}\n",
      "Symmetric difference of E and N is {0, 1, 3, 5, 6, 8}\n"
     ]
    }
   ],
   "source": [
    "#Your Output should look something like this\n",
    "#Union of E and N is {0, 1, 2, 3, 4, 5, 6, 8} \n",
    "#Intersection of E and N is {2, 4} \n",
    "#Difference of E and N is {8, 0, 6} \n",
    "#Symmetric difference of E and N is {0, 1, 3, 5, 6, 8}\n",
    "\n",
    "E = {0,2,4,6,8}\n",
    "N = {1,2,3,4,5}\n",
    "print(\"Union of E and N is\", E.union(N)) # same as E|N\n",
    "print(\"Intersection of E and N is\", E.intersection(N)) #same as E&N\n",
    "print(\"Difference of E and N is\", E.difference(N)) #same as E-N\n",
    "print(\"Symmetric difference of E and N is\", E.symmetric_difference(N)) #same as E^N"
   ]
  },
  {
   "cell_type": "code",
   "execution_count": null,
   "id": "eb484153",
   "metadata": {},
   "outputs": [],
   "source": []
  },
  {
   "cell_type": "code",
   "execution_count": null,
   "id": "80be274b",
   "metadata": {},
   "outputs": [],
   "source": []
  }
 ],
 "metadata": {
  "kernelspec": {
   "display_name": "Python 3",
   "language": "python",
   "name": "python3"
  },
  "language_info": {
   "codemirror_mode": {
    "name": "ipython",
    "version": 3
   },
   "file_extension": ".py",
   "mimetype": "text/x-python",
   "name": "python",
   "nbconvert_exporter": "python",
   "pygments_lexer": "ipython3",
   "version": "3.8.8"
  }
 },
 "nbformat": 4,
 "nbformat_minor": 5
}
